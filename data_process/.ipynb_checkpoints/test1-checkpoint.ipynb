{
 "cells": [
  {
   "cell_type": "code",
   "execution_count": 25,
   "metadata": {},
   "outputs": [
    {
     "name": "stdout",
     "output_type": "stream",
     "text": [
      "4999\n",
      "['0.01210640093041693', '0.011188067589070063', '0.012422980977913476', '0.046771692896212344', '0.05164057374175465', '0.05653234876048934', '0.09606855498225005', '0.10103625515812431', '0.106006992488126', '0.14584492879897334', '0.15083070263171755', '0.15581738817082516', '0.19573532960704257', '0.20072736947506087', '0.20535960853753107', '0.006539099232891327', '0.005017255861285131', '0.0073709196425954925', '0.045690165860692605', '0.05066309165830289', '0.055640870377606434', '0.0955466757997242', '0.10054016538865253', '0.10553427147793082', '0.145501695029225', '0.1504988400499406', '0.15549616862282364', '0.19547971571592176', '0.20047812064257187', '0.20510671294225746', '0.01210640093041693', '0.011188067589070063', '0.012422980977913476', '0.046771692896212344', '0.05164057374175465', '0.05653234876048934', '0.09606855498225005', '0.10103625515812431', '0.106006992488126', '0.14584492879897334', '0.15083070263171755', '0.15581738817082516', '0.19573532960704257', '0.20072736947506087', '0.20535960853753107', '0.01102564934541272', '0.010008639087188628', '0.011372354917852328', '0.046503669278645104', '0.05139794603267333', '0.05631080230628579', '0.09593835133239262', '0.10091246135328184', '0.10588901008309409', '0.14575919612970428', '0.1507478054778165', '0.1557371453969078', '0.19567145743919218', '0.20066508629150615', '0.20529873067968055', '0.004214239999999994', '0.00041576000000000113', '0.005415760000000006', '0.045415760000000006', '0.050415760000000004', '0.05541576000000001', '0.09541576', '0.10041576', '0.10541576000000001', '0.14541576', '0.15041576', '0.15541576000000001', '0.19541576', '0.20041576', '0.20504576000000002', '0.01102564934541272', '0.010008639087188628', '0.011372354917852328', '0.046503669278645104', '0.05139794603267333', '0.05631080230628579', '0.09593835133239262', '0.10091246135328184', '0.10588901008309409', '0.14575919612970428', '0.1507478054778165', '0.1557371453969078', '0.19567145743919218', '0.20066508629150615', '0.20529873067968055']\n",
      "90\n",
      "0\n"
     ]
    }
   ],
   "source": [
    "import numpy as np\n",
    "import torch\n",
    "import torch.nn as nn\n",
    "from sklearn.preprocessing import StandardScaler\n",
    "import torch.utils.data as Data\n",
    "\n",
    "# 数据的导入\n",
    "with open(r'F:\\杂物\\5600\\output_data/lenth.csv', 'r') as f:\n",
    "    forcedata = f.readlines()\n",
    "# del forcedata[0]\n",
    "# print(forcedata[0])\n",
    "f.close()\n",
    "X_data = []\n",
    "y_data = []\n",
    "channel_1 = []\n",
    "channel_2 = []\n",
    "channel1_data=[]\n",
    "channel2_data=[]\n",
    "for num, item in enumerate(forcedata):\n",
    "    if num == 0:\n",
    "        continue\n",
    "    data = item.split(',')\n",
    "    force = data[-2].replace('\\n', '')\n",
    "    del data[-2]\n",
    "    channel_1.append(data[0])\n",
    "    channel_2.append(data[1].strip('\\n'))\n",
    "    if len(channel_1) == 90:\n",
    "        channel1_data.append(channel_1)\n",
    "        channel2_data.append(channel_2)\n",
    "        y_data.append(force)\n",
    "        channel_1 = []\n",
    "        channel_2 = []\n",
    "f.close()\n",
    "# print(len(channel1_data))\n",
    "# print(channel1_data[0])\n",
    "# print(len(channel1_data[0]))\n",
    "# print(len(X_data))"
   ]
  },
  {
   "cell_type": "code",
   "execution_count": 42,
   "metadata": {},
   "outputs": [
    {
     "name": "stdout",
     "output_type": "stream",
     "text": [
      "4999\n",
      "(1, 2, 90)\n",
      "<class 'numpy.ndarray'>\n",
      "---------------------------\n",
      "<class 'list'>\n",
      "4499\n",
      "<class 'numpy.ndarray'>\n"
     ]
    }
   ],
   "source": [
    "X_data.clear()\n",
    "scale = StandardScaler()\n",
    "lenth_s=scale.fit_transform(channel1_data)\n",
    "strain_s=scale.fit_transform(channel2_data)\n",
    "\n",
    "\n",
    "for i in range(0,len(lenth_s)):\n",
    "    data1=np.hstack((lenth_s[i],strain_s[i]))\n",
    "    X_data.append(data1.reshape(1,2,90))\n",
    "# print(len(X_data))\n",
    "# print(X_data[0].shape)\n",
    "# print(type(X_data[0]))\n",
    "# print(\"---------------------------\")\n",
    "\n",
    "X_train = []\n",
    "X_test = []\n",
    "y_train = []\n",
    "y_test = []\n",
    "shuffle = np.random.permutation(len(X_data))\n",
    "train_num = int(len(shuffle) * 0.9)\n",
    "for i in shuffle[train_num:]:\n",
    "    X_test.append(X_data[i])\n",
    "    y_test.append(y_data[i])\n",
    "for i in shuffle[:train_num]:\n",
    "    X_train.append(X_data[i])\n",
    "    y_train.append(y_data[i])\n",
    "\n",
    "# print(type(X_train))\n",
    "# print(len(X_train))\n",
    "# print(type(X_train[0]))"
   ]
  },
  {
   "cell_type": "code",
   "execution_count": 46,
   "metadata": {},
   "outputs": [
    {
     "name": "stdout",
     "output_type": "stream",
     "text": [
      "<class 'torch.Tensor'>\n",
      "(4499, 2, 1, 90)\n"
     ]
    }
   ],
   "source": [
    "\n",
    "train_x = np.stack(((X_train[j].reshape(2, 1, -1) for j in range(0, len(X_train)))), axis=0)\n",
    "test_x = np.stack(((X_test[j].reshape(2, 1, -1) for j in range(0, len(X_test)))), axis=0)\n",
    "# train_xt = torch.from_numpy(X_train.astype(np.float32))\n",
    "\n",
    "y_train=np.array(y_train)\n",
    "\n",
    "train_xt = torch.from_numpy(train_x.astype(np.float32))\n",
    "train_yt = torch.from_numpy(y_train.astype(np.float32))\n",
    "test_xt = torch.from_numpy(test_x.astype(np.float32))\n",
    "# print(train_xt.shape)\n",
    "# test_yt = torch.from_numpy(y_test.astype(np.float32))\n",
    "\n",
    "\n",
    "train_data = Data.TensorDataset(train_xt, train_yt)\n",
    "# test_data = Data.TensorDataset(test_xt, test_yt)\n",
    "train_loader = Data.DataLoader(\n",
    "    dataset=train_data,\n",
    "    batch_size=8,\n",
    "    shuffle=True,\n",
    "    drop_last=False\n",
    ")"
   ]
  },
  {
   "cell_type": "code",
   "execution_count": null,
   "metadata": {},
   "outputs": [],
   "source": []
  }
 ],
 "metadata": {
  "kernelspec": {
   "display_name": "Python 3",
   "language": "python",
   "name": "python3"
  },
  "language_info": {
   "codemirror_mode": {
    "name": "ipython",
    "version": 3
   },
   "file_extension": ".py",
   "mimetype": "text/x-python",
   "name": "python",
   "nbconvert_exporter": "python",
   "pygments_lexer": "ipython3",
   "version": "3.6.8"
  }
 },
 "nbformat": 4,
 "nbformat_minor": 1
}
